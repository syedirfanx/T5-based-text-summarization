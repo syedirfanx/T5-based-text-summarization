{
 "cells": [
  {
   "cell_type": "markdown",
   "id": "4e4a75a5",
   "metadata": {},
   "source": [
    "# Natural Language Processing (NLP) Approaches for Text Summarization"
   ]
  },
  {
   "cell_type": "markdown",
   "id": "d41508d3",
   "metadata": {},
   "source": [
    "There are two main approaches in NLP for text summarization. They are- Extractive Summarization and Abstractive Summarization. \\\n",
    "**Extractive Summarization** is the process of extracting most important sentences from original text by scoring them and picking the high socred sentences. \\\n",
    "**Abstratctive Summarization** generate new sentences keeping the main ideas from original sentences.\n"
   ]
  },
  {
   "cell_type": "markdown",
   "id": "b5213e39",
   "metadata": {},
   "source": [
    "# Extractive Summarization"
   ]
  },
  {
   "cell_type": "markdown",
   "id": "b585d2aa",
   "metadata": {},
   "source": [
    "## Install"
   ]
  },
  {
   "cell_type": "code",
   "execution_count": 1,
   "id": "3063ab9c",
   "metadata": {},
   "outputs": [],
   "source": [
    "# !pip install nltk\n",
    "# !pip install numpy\n",
    "# !pip install pandas\n",
    "# !pip install transformers\n",
    "# !pip install sentencepiece"
   ]
  },
  {
   "cell_type": "markdown",
   "id": "b8d6d7a3",
   "metadata": {},
   "source": [
    "## Import Libraries"
   ]
  },
  {
   "cell_type": "code",
   "execution_count": 2,
   "id": "83aa1441",
   "metadata": {},
   "outputs": [],
   "source": [
    "import nltk\n",
    "import numpy as np\n",
    "import pandas as pd\n",
    "from nltk.corpus import stopwords\n",
    "from nltk.tokenize import sent_tokenize, word_tokenize\n",
    "from heapq import nlargest"
   ]
  },
  {
   "cell_type": "markdown",
   "id": "504368eb",
   "metadata": {},
   "source": [
    "## Load Text"
   ]
  },
  {
   "cell_type": "code",
   "execution_count": 3,
   "id": "2fd4a9ed",
   "metadata": {},
   "outputs": [],
   "source": [
    "text = \"The old house at the end of the street had always been shrouded in mystery. The rumors were that it was once owned by a powerful witch who practiced dark magic. But most people dismissed it as a silly superstition. One night, a group of curious teenagers decided to break into the house to see if the rumors were true. As they searched the dusty rooms, they found strange symbols etched into the walls and floor. Suddenly, they heard a cackling laughter coming from somewhere deep within the house. As they followed the sound, they stumbled upon a secret room filled with potions, herbs, and ancient books on witchcraft. Suddenly, the door slammed shut behind them, and they were trapped. One by one, the teenagers began to disappear, taken by an unseen force. They could hear whispers and chants coming from the shadows, and they knew they were not alone. In a desperate attempt to escape, the remaining teenagers tried to break down the door, but it was too strong. As they huddled in the corner, they saw a figure emerge from the darkness. It was the witch, more terrifying than they could have ever imagined. With a wave of her hand, she cast a spell that sent them all into a deep sleep. When they awoke, they were outside the house, unharmed but forever changed by their encounter with the witch. From that day forward, they never spoke of what happened in the old house, but they could never forget the feeling of dread that came with the whispers of witchcraft. They knew that the witch was still out there, waiting for her next victims to wander into her grasp.\""
   ]
  },
  {
   "cell_type": "code",
   "execution_count": 4,
   "id": "6d31da87",
   "metadata": {},
   "outputs": [
    {
     "data": {
      "text/plain": [
       "'The old house at the end of the street had always been shrouded in mystery. The rumors were that it was once owned by a powerful witch who practiced dark magic. But most people dismissed it as a silly superstition. One night, a group of curious teenagers decided to break into the house to see if the rumors were true. As they searched the dusty rooms, they found strange symbols etched into the walls and floor. Suddenly, they heard a cackling laughter coming from somewhere deep within the house. As they followed the sound, they stumbled upon a secret room filled with potions, herbs, and ancient books on witchcraft. Suddenly, the door slammed shut behind them, and they were trapped. One by one, the teenagers began to disappear, taken by an unseen force. They could hear whispers and chants coming from the shadows, and they knew they were not alone. In a desperate attempt to escape, the remaining teenagers tried to break down the door, but it was too strong. As they huddled in the corner, they saw a figure emerge from the darkness. It was the witch, more terrifying than they could have ever imagined. With a wave of her hand, she cast a spell that sent them all into a deep sleep. When they awoke, they were outside the house, unharmed but forever changed by their encounter with the witch. From that day forward, they never spoke of what happened in the old house, but they could never forget the feeling of dread that came with the whispers of witchcraft. They knew that the witch was still out there, waiting for her next victims to wander into her grasp.'"
      ]
     },
     "execution_count": 4,
     "metadata": {},
     "output_type": "execute_result"
    }
   ],
   "source": [
    "text"
   ]
  },
  {
   "cell_type": "markdown",
   "id": "c90d3014",
   "metadata": {},
   "source": [
    "## Text Preprocessing"
   ]
  },
  {
   "cell_type": "code",
   "execution_count": 5,
   "id": "9a43e314",
   "metadata": {},
   "outputs": [],
   "source": [
    "# nltk.download('stopwords')"
   ]
  },
  {
   "cell_type": "code",
   "execution_count": 6,
   "id": "1439ca5c",
   "metadata": {},
   "outputs": [],
   "source": [
    "# nltk.download('punkt')"
   ]
  },
  {
   "cell_type": "markdown",
   "id": "12719804",
   "metadata": {},
   "source": [
    "#### Removing the stopwords and punctuation"
   ]
  },
  {
   "cell_type": "code",
   "execution_count": 7,
   "id": "abe4336a",
   "metadata": {},
   "outputs": [],
   "source": [
    "stop_words = set(stopwords.words('english'))\n",
    "words = word_tokenize(text.lower())\n",
    "filtered_words = [word for word in words if word not in stop_words and word.isalnum()]"
   ]
  },
  {
   "cell_type": "markdown",
   "id": "e404b66f",
   "metadata": {},
   "source": [
    "## Sentence Score"
   ]
  },
  {
   "cell_type": "code",
   "execution_count": 8,
   "id": "efe20639",
   "metadata": {},
   "outputs": [],
   "source": [
    "sentences = sent_tokenize(text)\n",
    "sentence_scores = {}\n",
    "for sentence in sentences:\n",
    "    for word in word_tokenize(sentence.lower()):\n",
    "        if word in filtered_words:\n",
    "            if sentence not in sentence_scores:\n",
    "                sentence_scores[sentence] = 1\n",
    "            else:\n",
    "                sentence_scores[sentence] += 1"
   ]
  },
  {
   "cell_type": "code",
   "execution_count": 9,
   "id": "b8d96236",
   "metadata": {},
   "outputs": [
    {
     "data": {
      "text/plain": [
       "['The old house at the end of the street had always been shrouded in mystery.',\n",
       " 'The rumors were that it was once owned by a powerful witch who practiced dark magic.',\n",
       " 'But most people dismissed it as a silly superstition.',\n",
       " 'One night, a group of curious teenagers decided to break into the house to see if the rumors were true.',\n",
       " 'As they searched the dusty rooms, they found strange symbols etched into the walls and floor.',\n",
       " 'Suddenly, they heard a cackling laughter coming from somewhere deep within the house.',\n",
       " 'As they followed the sound, they stumbled upon a secret room filled with potions, herbs, and ancient books on witchcraft.',\n",
       " 'Suddenly, the door slammed shut behind them, and they were trapped.',\n",
       " 'One by one, the teenagers began to disappear, taken by an unseen force.',\n",
       " 'They could hear whispers and chants coming from the shadows, and they knew they were not alone.',\n",
       " 'In a desperate attempt to escape, the remaining teenagers tried to break down the door, but it was too strong.',\n",
       " 'As they huddled in the corner, they saw a figure emerge from the darkness.',\n",
       " 'It was the witch, more terrifying than they could have ever imagined.',\n",
       " 'With a wave of her hand, she cast a spell that sent them all into a deep sleep.',\n",
       " 'When they awoke, they were outside the house, unharmed but forever changed by their encounter with the witch.',\n",
       " 'From that day forward, they never spoke of what happened in the old house, but they could never forget the feeling of dread that came with the whispers of witchcraft.',\n",
       " 'They knew that the witch was still out there, waiting for her next victims to wander into her grasp.']"
      ]
     },
     "execution_count": 9,
     "metadata": {},
     "output_type": "execute_result"
    }
   ],
   "source": [
    "sentences"
   ]
  },
  {
   "cell_type": "code",
   "execution_count": 10,
   "id": "fd79e1fb",
   "metadata": {},
   "outputs": [
    {
     "data": {
      "text/plain": [
       "17"
      ]
     },
     "execution_count": 10,
     "metadata": {},
     "output_type": "execute_result"
    }
   ],
   "source": [
    "len(sentence_scores)"
   ]
  },
  {
   "cell_type": "markdown",
   "id": "82355fe8",
   "metadata": {},
   "source": [
    "## High Score Sentences"
   ]
  },
  {
   "cell_type": "code",
   "execution_count": 11,
   "id": "004cba44",
   "metadata": {},
   "outputs": [
    {
     "data": {
      "text/plain": [
       "{'The old house at the end of the street had always been shrouded in mystery.': 7,\n",
       " 'The rumors were that it was once owned by a powerful witch who practiced dark magic.': 7,\n",
       " 'But most people dismissed it as a silly superstition.': 4,\n",
       " 'One night, a group of curious teenagers decided to break into the house to see if the rumors were true.': 11,\n",
       " 'As they searched the dusty rooms, they found strange symbols etched into the walls and floor.': 9,\n",
       " 'Suddenly, they heard a cackling laughter coming from somewhere deep within the house.': 9,\n",
       " 'As they followed the sound, they stumbled upon a secret room filled with potions, herbs, and ancient books on witchcraft.': 12,\n",
       " 'Suddenly, the door slammed shut behind them, and they were trapped.': 6,\n",
       " 'One by one, the teenagers began to disappear, taken by an unseen force.': 8,\n",
       " 'They could hear whispers and chants coming from the shadows, and they knew they were not alone.': 8,\n",
       " 'In a desperate attempt to escape, the remaining teenagers tried to break down the door, but it was too strong.': 9,\n",
       " 'As they huddled in the corner, they saw a figure emerge from the darkness.': 6,\n",
       " 'It was the witch, more terrifying than they could have ever imagined.': 5,\n",
       " 'With a wave of her hand, she cast a spell that sent them all into a deep sleep.': 7,\n",
       " 'When they awoke, they were outside the house, unharmed but forever changed by their encounter with the witch.': 8,\n",
       " 'From that day forward, they never spoke of what happened in the old house, but they could never forget the feeling of dread that came with the whispers of witchcraft.': 15,\n",
       " 'They knew that the witch was still out there, waiting for her next victims to wander into her grasp.': 8}"
      ]
     },
     "execution_count": 11,
     "metadata": {},
     "output_type": "execute_result"
    }
   ],
   "source": [
    "sentence_scores"
   ]
  },
  {
   "cell_type": "markdown",
   "id": "66fdb8f0",
   "metadata": {},
   "source": [
    "## Print Summarization"
   ]
  },
  {
   "cell_type": "code",
   "execution_count": 12,
   "id": "9063a568",
   "metadata": {},
   "outputs": [
    {
     "name": "stdout",
     "output_type": "stream",
     "text": [
      "Original\n",
      " The old house at the end of the street had always been shrouded in mystery. The rumors were that it was once owned by a powerful witch who practiced dark magic. But most people dismissed it as a silly superstition. One night, a group of curious teenagers decided to break into the house to see if the rumors were true. As they searched the dusty rooms, they found strange symbols etched into the walls and floor. Suddenly, they heard a cackling laughter coming from somewhere deep within the house. As they followed the sound, they stumbled upon a secret room filled with potions, herbs, and ancient books on witchcraft. Suddenly, the door slammed shut behind them, and they were trapped. One by one, the teenagers began to disappear, taken by an unseen force. They could hear whispers and chants coming from the shadows, and they knew they were not alone. In a desperate attempt to escape, the remaining teenagers tried to break down the door, but it was too strong. As they huddled in the corner, they saw a figure emerge from the darkness. It was the witch, more terrifying than they could have ever imagined. With a wave of her hand, she cast a spell that sent them all into a deep sleep. When they awoke, they were outside the house, unharmed but forever changed by their encounter with the witch. From that day forward, they never spoke of what happened in the old house, but they could never forget the feeling of dread that came with the whispers of witchcraft. They knew that the witch was still out there, waiting for her next victims to wander into her grasp.\n",
      "\n",
      "Summary\n",
      " From that day forward, they never spoke of what happened in the old house, but they could never forget the feeling of dread that came with the whispers of witchcraft. As they followed the sound, they stumbled upon a secret room filled with potions, herbs, and ancient books on witchcraft. One night, a group of curious teenagers decided to break into the house to see if the rumors were true. As they searched the dusty rooms, they found strange symbols etched into the walls and floor. Suddenly, they heard a cackling laughter coming from somewhere deep within the house.\n"
     ]
    }
   ],
   "source": [
    "num_sentences = 5\n",
    "summary_sentences = nlargest(num_sentences, sentence_scores, key=sentence_scores.get)\n",
    "summary = ' '.join(summary_sentences)\n",
    "print('Original\\n', text)\n",
    "print('\\nSummary\\n',summary)"
   ]
  },
  {
   "cell_type": "markdown",
   "id": "ae29317b",
   "metadata": {},
   "source": [
    "# Abstractive Summarization"
   ]
  },
  {
   "cell_type": "markdown",
   "id": "1c983cb5",
   "metadata": {},
   "source": [
    "## Import"
   ]
  },
  {
   "cell_type": "code",
   "execution_count": 13,
   "id": "f767c606",
   "metadata": {},
   "outputs": [],
   "source": [
    "from transformers import T5Tokenizer, T5ForConditionalGeneration"
   ]
  },
  {
   "cell_type": "markdown",
   "id": "2107af85",
   "metadata": {},
   "source": [
    "## Load the T5 tokenizer and model"
   ]
  },
  {
   "cell_type": "code",
   "execution_count": 14,
   "id": "2173c997",
   "metadata": {},
   "outputs": [
    {
     "name": "stderr",
     "output_type": "stream",
     "text": [
      "C:\\Users\\syedi\\anaconda3\\lib\\site-packages\\transformers\\models\\t5\\tokenization_t5.py:163: FutureWarning: This tokenizer was incorrectly instantiated with a model max length of 512 which will be corrected in Transformers v5.\n",
      "For now, this behavior is kept to avoid breaking backwards compatibility when padding/encoding with `truncation is True`.\n",
      "- Be aware that you SHOULD NOT rely on t5-large automatically truncating your input to 512 when padding/encoding.\n",
      "- If you want to encode/pad to sequences longer than 512 you can either instantiate this tokenizer with `model_max_length` or pass `max_length` when encoding/padding.\n",
      "- To avoid this warning, please instantiate this tokenizer with `model_max_length` set to your preferred value.\n",
      "  warnings.warn(\n"
     ]
    }
   ],
   "source": [
    "tokenizer = T5Tokenizer.from_pretrained('t5-large')\n",
    "model = T5ForConditionalGeneration.from_pretrained('t5-large')"
   ]
  },
  {
   "cell_type": "markdown",
   "id": "1057fbcf",
   "metadata": {},
   "source": [
    "## Generate summarization of the text"
   ]
  },
  {
   "cell_type": "code",
   "execution_count": 15,
   "id": "43631f10",
   "metadata": {},
   "outputs": [],
   "source": [
    "inputs = tokenizer.encode(\"summarize: \" + text, return_tensors='pt', max_length=512, truncation=True)\n",
    "outputs = model.generate(inputs, max_length=150, min_length=40, length_penalty=2.0, num_beams=4) #early_stopping=True\n",
    "summary = tokenizer.decode(outputs[0], skip_special_tokens=True)"
   ]
  },
  {
   "cell_type": "markdown",
   "id": "74ca1a54",
   "metadata": {},
   "source": [
    "## Print Summarization"
   ]
  },
  {
   "cell_type": "code",
   "execution_count": 16,
   "id": "7e32a57d",
   "metadata": {},
   "outputs": [
    {
     "name": "stdout",
     "output_type": "stream",
     "text": [
      "Original Document:\n",
      "The old house at the end of the street had always been shrouded in mystery. The rumors were that it was once owned by a powerful witch who practiced dark magic. But most people dismissed it as a silly superstition. One night, a group of curious teenagers decided to break into the house to see if the rumors were true. As they searched the dusty rooms, they found strange symbols etched into the walls and floor. Suddenly, they heard a cackling laughter coming from somewhere deep within the house. As they followed the sound, they stumbled upon a secret room filled with potions, herbs, and ancient books on witchcraft. Suddenly, the door slammed shut behind them, and they were trapped. One by one, the teenagers began to disappear, taken by an unseen force. They could hear whispers and chants coming from the shadows, and they knew they were not alone. In a desperate attempt to escape, the remaining teenagers tried to break down the door, but it was too strong. As they huddled in the corner, they saw a figure emerge from the darkness. It was the witch, more terrifying than they could have ever imagined. With a wave of her hand, she cast a spell that sent them all into a deep sleep. When they awoke, they were outside the house, unharmed but forever changed by their encounter with the witch. From that day forward, they never spoke of what happened in the old house, but they could never forget the feeling of dread that came with the whispers of witchcraft. They knew that the witch was still out there, waiting for her next victims to wander into her grasp.\n",
      "\n",
      "Generated Summary:\n",
      "a group of teenagers broke into an old house to see if it was once owned by a witch. they heard a cackling laughter and found a secret room filled with potions and herbs. one by one, the teenagers began to disappear, taken by an unseen force. with a wave of her hand, the witch cast a spell that sent them all into a deep sleep.\n"
     ]
    }
   ],
   "source": [
    "print(\"Original Document:\")\n",
    "print(text)\n",
    "print(\"\\nGenerated Summary:\")\n",
    "print(summary)"
   ]
  }
 ],
 "metadata": {
  "kernelspec": {
   "display_name": "Python 3 (ipykernel)",
   "language": "python",
   "name": "python3"
  },
  "language_info": {
   "codemirror_mode": {
    "name": "ipython",
    "version": 3
   },
   "file_extension": ".py",
   "mimetype": "text/x-python",
   "name": "python",
   "nbconvert_exporter": "python",
   "pygments_lexer": "ipython3",
   "version": "3.9.12"
  }
 },
 "nbformat": 4,
 "nbformat_minor": 5
}
